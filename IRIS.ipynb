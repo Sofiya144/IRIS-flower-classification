{
 "cells": [
  {
   "cell_type": "code",
   "execution_count": 1,
   "id": "9974e0b0-f558-4a00-bff7-662d2c0739d4",
   "metadata": {},
   "outputs": [],
   "source": [
    "import pandas as pd\n"
   ]
  },
  {
   "cell_type": "code",
   "execution_count": 3,
   "id": "5a05a862-b6c4-4c3c-a0c0-03e8b75b509e",
   "metadata": {},
   "outputs": [
    {
     "data": {
      "text/html": [
       "<div>\n",
       "<style scoped>\n",
       "    .dataframe tbody tr th:only-of-type {\n",
       "        vertical-align: middle;\n",
       "    }\n",
       "\n",
       "    .dataframe tbody tr th {\n",
       "        vertical-align: top;\n",
       "    }\n",
       "\n",
       "    .dataframe thead th {\n",
       "        text-align: right;\n",
       "    }\n",
       "</style>\n",
       "<table border=\"1\" class=\"dataframe\">\n",
       "  <thead>\n",
       "    <tr style=\"text-align: right;\">\n",
       "      <th></th>\n",
       "      <th>sepal_length</th>\n",
       "      <th>sepal_width</th>\n",
       "      <th>petal_length</th>\n",
       "      <th>petal_width</th>\n",
       "      <th>species</th>\n",
       "    </tr>\n",
       "  </thead>\n",
       "  <tbody>\n",
       "    <tr>\n",
       "      <th>0</th>\n",
       "      <td>5.1</td>\n",
       "      <td>3.5</td>\n",
       "      <td>1.4</td>\n",
       "      <td>0.2</td>\n",
       "      <td>Iris-setosa</td>\n",
       "    </tr>\n",
       "    <tr>\n",
       "      <th>1</th>\n",
       "      <td>4.9</td>\n",
       "      <td>3.0</td>\n",
       "      <td>1.4</td>\n",
       "      <td>0.2</td>\n",
       "      <td>Iris-setosa</td>\n",
       "    </tr>\n",
       "    <tr>\n",
       "      <th>2</th>\n",
       "      <td>4.7</td>\n",
       "      <td>3.2</td>\n",
       "      <td>1.3</td>\n",
       "      <td>0.2</td>\n",
       "      <td>Iris-setosa</td>\n",
       "    </tr>\n",
       "    <tr>\n",
       "      <th>3</th>\n",
       "      <td>4.6</td>\n",
       "      <td>3.1</td>\n",
       "      <td>1.5</td>\n",
       "      <td>0.2</td>\n",
       "      <td>Iris-setosa</td>\n",
       "    </tr>\n",
       "    <tr>\n",
       "      <th>4</th>\n",
       "      <td>5.0</td>\n",
       "      <td>3.6</td>\n",
       "      <td>1.4</td>\n",
       "      <td>0.2</td>\n",
       "      <td>Iris-setosa</td>\n",
       "    </tr>\n",
       "  </tbody>\n",
       "</table>\n",
       "</div>"
      ],
      "text/plain": [
       "   sepal_length  sepal_width  petal_length  petal_width      species\n",
       "0           5.1          3.5           1.4          0.2  Iris-setosa\n",
       "1           4.9          3.0           1.4          0.2  Iris-setosa\n",
       "2           4.7          3.2           1.3          0.2  Iris-setosa\n",
       "3           4.6          3.1           1.5          0.2  Iris-setosa\n",
       "4           5.0          3.6           1.4          0.2  Iris-setosa"
      ]
     },
     "execution_count": 3,
     "metadata": {},
     "output_type": "execute_result"
    }
   ],
   "source": [
    "df = pd.read_csv(\"E:\\IRIS.csv\")\n",
    "df.head()"
   ]
  },
  {
   "cell_type": "code",
   "execution_count": 4,
   "id": "ff2dfba8-b36f-43f0-ac95-258301abdbce",
   "metadata": {},
   "outputs": [
    {
     "data": {
      "text/plain": [
       "sepal_length    0\n",
       "sepal_width     0\n",
       "petal_length    0\n",
       "petal_width     0\n",
       "species         0\n",
       "dtype: int64"
      ]
     },
     "execution_count": 4,
     "metadata": {},
     "output_type": "execute_result"
    }
   ],
   "source": [
    "df.isnull().sum()"
   ]
  },
  {
   "cell_type": "code",
   "execution_count": 5,
   "id": "0866de5e-54a0-4c2a-9aa1-57ab0c99da47",
   "metadata": {},
   "outputs": [],
   "source": [
    "X = df.drop(['species'],axis= 'columns')\n",
    "y = df['species']"
   ]
  },
  {
   "cell_type": "code",
   "execution_count": 6,
   "id": "021ab93f-416a-45af-9639-9c9fb96355c0",
   "metadata": {},
   "outputs": [],
   "source": [
    "from sklearn.svm import SVC\n",
    "from sklearn.ensemble import RandomForestClassifier\n",
    "from sklearn.naive_bayes import GaussianNB\n",
    "from sklearn.naive_bayes import MultinomialNB\n",
    "from sklearn.neighbors import KNeighborsClassifier\n",
    "from sklearn.tree import DecisionTreeClassifier\n",
    "\n",
    "from sklearn.model_selection import GridSearchCV"
   ]
  },
  {
   "cell_type": "code",
   "execution_count": 7,
   "id": "21c0b9a3-6341-4312-b593-9e35fd2b6c3c",
   "metadata": {},
   "outputs": [],
   "source": [
    "model_params = {\n",
    "    'svm' : {\n",
    "        'model' : SVC(gamma='auto'),\n",
    "        'params' : {\n",
    "            'C' : [1,10,20],\n",
    "            'kernel' : ['rbf','linear']\n",
    "    }\n",
    "     },\n",
    "    'Random_forest' : {\n",
    "        'model' : RandomForestClassifier(),\n",
    "        'params' : {\n",
    "            'n_estimators' : [1,5,10, 20, 40]\n",
    "        }\n",
    "    },\n",
    "    'Naive_bayes' : {\n",
    "        'model' : GaussianNB(),\n",
    "        'params' : {\n",
    "            'var_smoothing' : [1.2,5.5,6.7]\n",
    "        }\n",
    "    },\n",
    "    'Naive_bayes' : {\n",
    "        'model' :MultinomialNB(),\n",
    "        'params' : {\n",
    "            'alpha' : [1.0 , 2.0, 3.0, 10.0 , 20.0]\n",
    "        }\n",
    "    },\n",
    "    'Decision_tree' : {\n",
    "        'model' :DecisionTreeClassifier(),\n",
    "        'params' : {\n",
    "            'criterion' : ['gini', 'entropy', 'log_loss']\n",
    "        }\n",
    "    },\n",
    "    'K nearest neighbor' : {\n",
    "        'model' : KNeighborsClassifier(),\n",
    "        'params' : {\n",
    "            'n_neighbors' : [5, 10,15]\n",
    "        }\n",
    "    },\n",
    "    \n",
    "}\n"
   ]
  },
  {
   "cell_type": "code",
   "execution_count": 8,
   "id": "1a54ddfd-f640-4b42-80c4-5dceaed9883a",
   "metadata": {},
   "outputs": [
    {
     "data": {
      "text/html": [
       "<div>\n",
       "<style scoped>\n",
       "    .dataframe tbody tr th:only-of-type {\n",
       "        vertical-align: middle;\n",
       "    }\n",
       "\n",
       "    .dataframe tbody tr th {\n",
       "        vertical-align: top;\n",
       "    }\n",
       "\n",
       "    .dataframe thead th {\n",
       "        text-align: right;\n",
       "    }\n",
       "</style>\n",
       "<table border=\"1\" class=\"dataframe\">\n",
       "  <thead>\n",
       "    <tr style=\"text-align: right;\">\n",
       "      <th></th>\n",
       "      <th>model</th>\n",
       "      <th>best_score</th>\n",
       "      <th>best_params</th>\n",
       "    </tr>\n",
       "  </thead>\n",
       "  <tbody>\n",
       "    <tr>\n",
       "      <th>0</th>\n",
       "      <td>svm</td>\n",
       "      <td>0.980000</td>\n",
       "      <td>{'C': 1, 'kernel': 'rbf'}</td>\n",
       "    </tr>\n",
       "    <tr>\n",
       "      <th>1</th>\n",
       "      <td>Random_forest</td>\n",
       "      <td>0.966667</td>\n",
       "      <td>{'n_estimators': 20}</td>\n",
       "    </tr>\n",
       "    <tr>\n",
       "      <th>2</th>\n",
       "      <td>Naive_bayes</td>\n",
       "      <td>0.966667</td>\n",
       "      <td>{'alpha': 10.0}</td>\n",
       "    </tr>\n",
       "    <tr>\n",
       "      <th>3</th>\n",
       "      <td>Decision_tree</td>\n",
       "      <td>0.960000</td>\n",
       "      <td>{'criterion': 'gini'}</td>\n",
       "    </tr>\n",
       "    <tr>\n",
       "      <th>4</th>\n",
       "      <td>K nearest neighbor</td>\n",
       "      <td>0.980000</td>\n",
       "      <td>{'n_neighbors': 10}</td>\n",
       "    </tr>\n",
       "  </tbody>\n",
       "</table>\n",
       "</div>"
      ],
      "text/plain": [
       "                model  best_score                best_params\n",
       "0                 svm    0.980000  {'C': 1, 'kernel': 'rbf'}\n",
       "1       Random_forest    0.966667       {'n_estimators': 20}\n",
       "2         Naive_bayes    0.966667            {'alpha': 10.0}\n",
       "3       Decision_tree    0.960000      {'criterion': 'gini'}\n",
       "4  K nearest neighbor    0.980000        {'n_neighbors': 10}"
      ]
     },
     "execution_count": 8,
     "metadata": {},
     "output_type": "execute_result"
    }
   ],
   "source": [
    "scores =[]\n",
    "\n",
    "for model_name , mp in model_params.items():\n",
    "    clf = GridSearchCV(mp['model'],mp['params'], cv= 5, return_train_score = False)\n",
    "    clf.fit(X,y)\n",
    "    scores.append({\n",
    "        'model' : model_name,\n",
    "        'best_score' : clf.best_score_,\n",
    "        'best_params' : clf.best_params_\n",
    "    })\n",
    "\n",
    "df = pd.DataFrame(scores,columns=['model','best_score','best_params'])\n",
    "df"
   ]
  },
  {
   "cell_type": "code",
   "execution_count": null,
   "id": "7abc93e5-d7e9-49df-8d83-1cfdb9163219",
   "metadata": {},
   "outputs": [],
   "source": []
  }
 ],
 "metadata": {
  "kernelspec": {
   "display_name": "Python 3 (ipykernel)",
   "language": "python",
   "name": "python3"
  },
  "language_info": {
   "codemirror_mode": {
    "name": "ipython",
    "version": 3
   },
   "file_extension": ".py",
   "mimetype": "text/x-python",
   "name": "python",
   "nbconvert_exporter": "python",
   "pygments_lexer": "ipython3",
   "version": "3.11.4"
  }
 },
 "nbformat": 4,
 "nbformat_minor": 5
}
